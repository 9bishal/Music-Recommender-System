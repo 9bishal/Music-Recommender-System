{
  "cells": [
    {
      "cell_type": "markdown",
      "metadata": {
        "id": "view-in-github",
        "colab_type": "text"
      },
      "source": [
        "<a href=\"https://colab.research.google.com/github/9bishal/Music-Recommender-System/blob/main/Welcome_to_Colab.ipynb\" target=\"_parent\"><img src=\"https://colab.research.google.com/assets/colab-badge.svg\" alt=\"Open In Colab\"/></a>"
      ]
    },
    {
      "cell_type": "code",
      "source": [
        "import pandas as pd\n",
        "df=pd.read_csv(\"/content/spotify_millsongdata.csv\")"
      ],
      "metadata": {
        "id": "dQmA3hlJ6ZMB"
      },
      "execution_count": null,
      "outputs": []
    },
    {
      "cell_type": "code",
      "source": [
        "df.head(5)"
      ],
      "metadata": {
        "id": "Iz12on3O6ihi"
      },
      "execution_count": null,
      "outputs": []
    },
    {
      "cell_type": "code",
      "source": [
        "df.tail(5)"
      ],
      "metadata": {
        "id": "zAwkdTbD6v-Z"
      },
      "execution_count": null,
      "outputs": []
    },
    {
      "cell_type": "code",
      "source": [
        "df.shape"
      ],
      "metadata": {
        "id": "OQO6jVhj6yeq"
      },
      "execution_count": null,
      "outputs": []
    },
    {
      "cell_type": "markdown",
      "source": [
        "Checkigng the Null values"
      ],
      "metadata": {
        "id": "vuu0NMzq68ez"
      }
    },
    {
      "cell_type": "code",
      "source": [
        "df.isnull().sum()"
      ],
      "metadata": {
        "id": "qiBNKE-g61fV"
      },
      "execution_count": null,
      "outputs": []
    },
    {
      "cell_type": "markdown",
      "source": [
        "Dropping the Link from the column(axis=True/1)"
      ],
      "metadata": {
        "id": "YNiSI15Q7hO1"
      }
    },
    {
      "cell_type": "code",
      "source": [
        "df=df.drop('link', axis=1).reset_index(drop=True)"
      ],
      "metadata": {
        "id": "dJoIykmO66bJ"
      },
      "execution_count": null,
      "outputs": []
    },
    {
      "cell_type": "code",
      "source": [
        "df.head(5)"
      ],
      "metadata": {
        "id": "MUH381eT7jbM"
      },
      "execution_count": null,
      "outputs": []
    },
    {
      "cell_type": "markdown",
      "source": [
        "Viewing the First text"
      ],
      "metadata": {
        "id": "DlWwhjEk7zt_"
      }
    },
    {
      "cell_type": "code",
      "source": [
        "df['text'][0]"
      ],
      "metadata": {
        "id": "SukkIu2X7kiV"
      },
      "execution_count": null,
      "outputs": []
    },
    {
      "cell_type": "markdown",
      "source": [
        "Cleaning the Data/Text Preprocessing/ Text Cleaning\n",
        "(e.g. \\n, /n, /r, etc)"
      ],
      "metadata": {
        "id": "pnadPnAk8ME_"
      }
    },
    {
      "cell_type": "markdown",
      "source": [
        "Converts text to lowercase, removes any single character + space at the beginning, and replaces newline characters with spaces"
      ],
      "metadata": {
        "id": "KcAwXH1P-weQ"
      }
    },
    {
      "cell_type": "code",
      "source": [
        "df['text'] = df['text'].str.lower().replace(r'^\\w\\s', ' ', regex=True).replace(r'\\n', ' ', regex=True)\n"
      ],
      "metadata": {
        "id": "m0-puara7tTd"
      },
      "execution_count": null,
      "outputs": []
    },
    {
      "cell_type": "code",
      "source": [
        "df['text'][0]"
      ],
      "metadata": {
        "id": "U9jkuAQf9T0E"
      },
      "execution_count": null,
      "outputs": []
    },
    {
      "cell_type": "code",
      "source": [
        "df['text']"
      ],
      "metadata": {
        "id": "EFVrFG2g--UM"
      },
      "execution_count": null,
      "outputs": []
    },
    {
      "cell_type": "code",
      "source": [
        "df"
      ],
      "metadata": {
        "id": "vwvTk6VT9c23"
      },
      "execution_count": null,
      "outputs": []
    },
    {
      "cell_type": "markdown",
      "source": [
        "Using the Tokenizer for the text/Lyrics"
      ],
      "metadata": {
        "id": "GJrHtPodF-qp"
      }
    },
    {
      "cell_type": "code",
      "source": [
        "import nltk\n",
        "nltk.download('punkt_tab')\n",
        "from nltk.stem.porter import PorterStemmer"
      ],
      "metadata": {
        "id": "rN_2_HTeBOEV"
      },
      "execution_count": null,
      "outputs": []
    },
    {
      "cell_type": "code",
      "source": [
        "stemmer=PorterStemmer()"
      ],
      "metadata": {
        "id": "LEQWkzPGB8tu"
      },
      "execution_count": null,
      "outputs": []
    },
    {
      "cell_type": "code",
      "source": [
        "def token(txt):\n",
        "  token = nltk.word_tokenize(txt)                     # Step 1: Tokenize the sentence into words\n",
        "  a = [stemmer.stem(w) for w in token]                # Step 2: Apply stemming to each word\n",
        "  return \" \".join(a)                                  # Step 3: Join the stemmed words back into a sentence\n"
      ],
      "metadata": {
        "id": "VbeGtw1uCGnd"
      },
      "execution_count": null,
      "outputs": []
    },
    {
      "cell_type": "code",
      "source": [
        "token(\"beautiful You are are beautiful \")"
      ],
      "metadata": {
        "id": "RxRNqAjxChsu"
      },
      "execution_count": null,
      "outputs": []
    },
    {
      "cell_type": "markdown",
      "source": [],
      "metadata": {
        "id": "iImaRQK8FvKI"
      }
    },
    {
      "cell_type": "code",
      "source": [
        "df['text'].apply(lambda x: token(x))"
      ],
      "metadata": {
        "id": "z4-UxCwlWxrS"
      },
      "execution_count": null,
      "outputs": []
    },
    {
      "cell_type": "code",
      "source": [
        "from sklearn.feature_extraction.text import TfidfVectorizer\n",
        "from sklearn.metrics.pairwise import cosine_similarity"
      ],
      "metadata": {
        "id": "XkpYJFnHFzBi"
      },
      "execution_count": null,
      "outputs": []
    },
    {
      "cell_type": "markdown",
      "source": [
        "analyzer='word' → Tells the vectorizer to break the text into words (default behavior).\n",
        "\n",
        "stop_words='english' → Removes common English stop words (like \"the\", \"is\", \"and\") which don't add much meaning."
      ],
      "metadata": {
        "id": "BLsFIhNeZdDb"
      }
    },
    {
      "cell_type": "code",
      "source": [
        "tfidf = TfidfVectorizer(analyzer='word', stop_words='english')"
      ],
      "metadata": {
        "id": "UdovGAlhWr7R"
      },
      "execution_count": null,
      "outputs": []
    },
    {
      "cell_type": "code",
      "source": [
        "matrix = tfidf.fit_transform(df['text'])  # try with just 100 songs\n"
      ],
      "metadata": {
        "id": "4nz6dxMWYQGf"
      },
      "execution_count": null,
      "outputs": []
    },
    {
      "cell_type": "code",
      "source": [
        "cosine_similarity(matrix)"
      ],
      "metadata": {
        "id": "bJnUy9ojZkCw"
      },
      "execution_count": null,
      "outputs": []
    },
    {
      "cell_type": "code",
      "source": [],
      "metadata": {
        "id": "-D6EGM1pZooR"
      },
      "execution_count": null,
      "outputs": []
    }
  ],
  "metadata": {
    "colab": {
      "name": "Welcome to Colab",
      "provenance": [],
      "include_colab_link": true
    },
    "kernelspec": {
      "display_name": "Python 3",
      "name": "python3"
    }
  },
  "nbformat": 4,
  "nbformat_minor": 0
}